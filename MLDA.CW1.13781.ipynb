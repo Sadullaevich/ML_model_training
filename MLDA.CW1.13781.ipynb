{
 "cells": [
  {
   "attachments": {},
   "cell_type": "markdown",
   "id": "7b062970-0f87-4f0b-863d-bf85e8e191b5",
   "metadata": {},
   "source": [
    "<font size=5>\n",
    "<b>Machine Learning and Data Analytics</b><br>\n",
    "<b>Semester 1, 2024-2025</b><br>\n",
    "<b>Module code</b>: 6COSC017C<br>\n",
    "<b>Lecturer</b>: Hamid Reza Khosravani (h.r.khosravani@wiut.uz)<br>\n",
    "<b>CW1</b><br>\n",
    "</font>"
   ]
  },
  {
   "cell_type": "markdown",
   "id": "f713dfc4-13a3-47cb-8067-7c3678bf8e7d",
   "metadata": {},
   "source": [
    "# Import Modules"
   ]
  },
  {
   "cell_type": "code",
   "execution_count": null,
   "id": "36f80549-bc0f-47fc-8ad6-4e0497cfbac2",
   "metadata": {},
   "outputs": [],
   "source": [
    "from typing import List, Dict, Tuple, Optional, Any, Callable\n",
    "import numpy as np\n",
    "import pandas as pd\n",
    "\n",
    "from copy import deepcopy\n",
    "from collections import defaultdict\n",
    "\n",
    "from matplotlib import pyplot as plt\n",
    "import seaborn as sns\n",
    "import plotly\n",
    "import plotly.express as px\n",
    "import plotly.graph_objects as go\n",
    "\n",
    "from sklearn.base import clone\n",
    "from sklearn.preprocessing import LabelEncoder\n",
    "from sklearn.preprocessing import StandardScaler\n",
    "from sklearn.metrics import mean_absolute_error\n",
    "from sklearn.metrics import mean_squared_error\n",
    "from sklearn.model_selection import cross_val_score\n",
    "from sklearn.model_selection import train_test_split, GridSearchCV, KFold\n",
    "from sklearn.linear_model import LinearRegression, SGDRegressor, Lasso, Ridge, ElasticNet\n",
    "from sklearn.metrics import root_mean_squared_error, r2_score\n",
    "from sklearn.ensemble import RandomForestRegressor\n",
    "from scipy.stats import randint\n",
    "from sklearn.model_selection import RandomizedSearchCV\n",
    "from xgboost import XGBRegressor\n",
    "\n",
    "from sklearn.feature_selection import SelectKBest, mutual_info_regression, r_regression"
   ]
  },
  {
   "cell_type": "markdown",
   "id": "9fa1d694-4501-4263-9b15-fb1347c06a84",
   "metadata": {},
   "source": [
    "## Visualization"
   ]
  },
  {
   "cell_type": "code",
   "execution_count": null,
   "id": "c9451e26-2bd4-4df8-81b6-788ffe734f6c",
   "metadata": {},
   "outputs": [],
   "source": [
    "def plot_bar(\n",
    "    df:pd.DataFrame, \n",
    "    x:str,\n",
    "    y: str,    \n",
    "    title: Optional[str]=None,\n",
    "    figsize:Optional[Tuple]=(10, 5),\n",
    "    xlabel:Optional[str]=None,\n",
    "    ylabel:Optional[str]=None,\n",
    "    orient:str=\"v\",\n",
    "    show_value_on_bar=False\n",
    ")->plt.figure:\n",
    "    \"\"\"\n",
    "    Plots bar chart based on the inputs\n",
    "    \n",
    "    Args:\n",
    "        df: Dataframe containing the categorical column\n",
    "        x: Categorical column associated with X axis\n",
    "        y: Count column associated with Y axis\n",
    "        title: Title of plot\n",
    "        figsize: Tuple denoting figure size\n",
    "        xlabel: String denoting label of x axis\n",
    "        ylabel: String denoting label of y axis\n",
    "        show_value_on_bar: Boolean indicationg wether values are shown on bars or not\n",
    "        \n",
    "    Returns:\n",
    "        Figure containing bar chart\n",
    "    \"\"\"        \n",
    "    fig = plt.figure(figsize=figsize)\n",
    "    ax = fig.add_subplot(111)\n",
    "    sns.barplot(data=df, x=x, y=y, ax=ax, orient=orient)\n",
    "    ax.set_title(title)\n",
    "    ax.tick_params(axis='x', rotation=90)\n",
    "    if show_value_on_bar:\n",
    "        ax.bar_label(ax.containers[0])\n",
    "    if xlabel:\n",
    "        ax.set_xlabel(xlabel)\n",
    "    if ylabel:\n",
    "        ax.set_ylabel(ylabel)\n",
    "    return fig\n"
   ]
  },
  {
   "cell_type": "markdown",
   "id": "4cbc316f-10e3-41fc-adbd-02f4da0926be",
   "metadata": {},
   "source": [
    "# Load Data"
   ]
  },
  {
   "cell_type": "code",
   "execution_count": null,
   "id": "2a7877f8-63d4-4409-815a-063f949331d9",
   "metadata": {},
   "outputs": [],
   "source": [
    "playstore_df = pd.read_csv(\"./googleplaystore.csv\")\n",
    "print(\"Dataset Shape:\", playstore_df.shape)  # Rows and Columns\n",
    "print(\"\\nDataset Head:\")\n",
    "display(playstore_df.head())  # First 5 rows of the dataset"
   ]
  },
  {
   "cell_type": "markdown",
   "id": "ea97e22d-df5f-4baf-95e5-8259eeb9762b",
   "metadata": {},
   "source": [
    "# Check basic information about dataset(data type)"
   ]
  },
  {
   "cell_type": "code",
   "execution_count": null,
   "id": "9bd12329-2148-4902-ae99-0e0863d17a2b",
   "metadata": {},
   "outputs": [],
   "source": [
    "playstore_df.info()"
   ]
  },
  {
   "cell_type": "code",
   "execution_count": null,
   "id": "3485affc-77a7-485c-bfc3-ca29c2978520",
   "metadata": {},
   "outputs": [],
   "source": [
    "# If you pay attention here:\n",
    "# we had 10841 entries and there, some columns have less entries for example, \n",
    "# Rating has 9367 values which means there are missing values in this column. And also, Android Ver,\n",
    "#Type, Current Ver, Content Rating. \n",
    "# We have 3 columns which are expected to be numeric,but here they are object. They are Size, Installs, Price"
   ]
  },
  {
   "cell_type": "markdown",
   "id": "d8012410-0ccc-419e-8adc-acb5763a1e26",
   "metadata": {},
   "source": [
    "# Get descriptive statistics of data"
   ]
  },
  {
   "cell_type": "code",
   "execution_count": null,
   "id": "a4692b8d-630d-4686-8863-f834fa9661a3",
   "metadata": {},
   "outputs": [],
   "source": [
    "# Numerical column statistics\n",
    "print(playstore_df.describe())\n",
    "\n",
    "# Categorical column statistics\n",
    "print(playstore_df.describe(include=['O']))"
   ]
  },
  {
   "cell_type": "code",
   "execution_count": null,
   "id": "c78e8378-f6d4-459c-afac-cc0f264e7f97",
   "metadata": {},
   "outputs": [],
   "source": [
    "# We can see that we have only one numeric column: Rating and other are categorical columns\n",
    "# Installs, Size, Price, Reviews will be converted to numeric"
   ]
  },
  {
   "cell_type": "markdown",
   "id": "abfda4d0-62e9-49ff-bb25-6b9c4930d035",
   "metadata": {},
   "source": [
    "## Unique Values Count"
   ]
  },
  {
   "cell_type": "code",
   "execution_count": null,
   "id": "29a87f23-16b5-4189-b4f6-d7c3160a946e",
   "metadata": {},
   "outputs": [],
   "source": [
    "# Count unique values for each column\n",
    "def print_unique_values(playstore_df):\n",
    "    for column in playstore_df.columns:\n",
    "        unique_values = playstore_df[column].nunique()\n",
    "        print(f\"Column '{column}' has {unique_values} unique values\")\n",
    "\n",
    "print_unique_values(playstore_df)"
   ]
  },
  {
   "cell_type": "markdown",
   "id": "4a53d7c0-0286-4025-b461-e94cd2024db5",
   "metadata": {},
   "source": [
    "## Convert columns to numeric(Installs, Price, Size)"
   ]
  },
  {
   "cell_type": "markdown",
   "id": "bdabb475-e372-4745-9a86-effa4146eb73",
   "metadata": {},
   "source": [
    "### Start with Installs"
   ]
  },
  {
   "cell_type": "code",
   "execution_count": null,
   "id": "9d766567-d828-447d-b504-1fe7d97b0ea6",
   "metadata": {},
   "outputs": [],
   "source": [
    "# first of all we will see the unique values in the installs column\n",
    "playstore_df.Installs.unique()"
   ]
  },
  {
   "cell_type": "code",
   "execution_count": null,
   "id": "37d08e65-7b6c-4d8b-9e0e-1b1ab712726c",
   "metadata": {},
   "outputs": [],
   "source": [
    "playstore_df.Installs.value_counts() # value counts is use to count the number of unique values in the column\n",
    "# got this code from : https://pandas.pydata.org/docs/reference/api/pandas.Series.value_counts.html "
   ]
  },
  {
   "cell_type": "code",
   "execution_count": null,
   "id": "cdb3bba0-e3f3-42f1-99bb-8303613c34fa",
   "metadata": {},
   "outputs": [],
   "source": [
    "# Here we need to remove + and , comma signs to convert it to numerical column. \n",
    "#And we can change Free to 0 as long as it might indicate no installs.\n",
    "playstore_df['Installs'] = playstore_df['Installs'].replace('Free', '0')"
   ]
  },
  {
   "cell_type": "code",
   "execution_count": null,
   "id": "c2a75a0d-ff56-4c97-b252-2d714c780a9f",
   "metadata": {},
   "outputs": [],
   "source": [
    "# let's check the missing values in column\n",
    "playstore_df.Installs.isnull().sum()"
   ]
  },
  {
   "cell_type": "code",
   "execution_count": null,
   "id": "d38f0290-27dc-40c4-88d0-cb150f7b8e0d",
   "metadata": {},
   "outputs": [],
   "source": [
    "# Removing plus + sign from Installs column\n",
    "playstore_df['Installs'] = playstore_df['Installs'].apply(lambda x:x.replace('+','') if '+' in str(x) else x)\n",
    "# Removing comma , from the  Installs column\n",
    "playstore_df['Installs'] = playstore_df['Installs'].apply(lambda x:x.replace(',',''))\n",
    "playstore_df.Installs.head()"
   ]
  },
  {
   "cell_type": "code",
   "execution_count": null,
   "id": "77c82c64-d494-45af-82bc-9c63f7f35a12",
   "metadata": {},
   "outputs": [],
   "source": [
    "# Now we can convert it to numerical value\n",
    "# Converting Installs column into numeric column\n",
    "playstore_df['Installs'] = playstore_df['Installs'].apply(lambda x: int(x))\n",
    "playstore_df.Installs.dtypes"
   ]
  },
  {
   "cell_type": "markdown",
   "id": "2084e3b3-2312-4573-8bab-d7e8998d9e6a",
   "metadata": {},
   "source": [
    "## Size Column Conversion"
   ]
  },
  {
   "cell_type": "code",
   "execution_count": null,
   "id": "c0a97b37-6eca-4924-a981-572225913fe4",
   "metadata": {},
   "outputs": [],
   "source": [
    "# let's see first unique values in Size \n",
    "playstore_df.Size.unique()"
   ]
  },
  {
   "cell_type": "code",
   "execution_count": null,
   "id": "601afdd6-64a8-449f-85f0-620809083167",
   "metadata": {},
   "outputs": [],
   "source": [
    "# Here we have values in :\n",
    "# Values with M\n",
    "# Values with k\n",
    "# Values with \"Varies with device\""
   ]
  },
  {
   "cell_type": "code",
   "execution_count": null,
   "id": "52ac523b-3cff-4fe3-876c-ba5d172d7a4f",
   "metadata": {},
   "outputs": [],
   "source": [
    "# Before going to convert it let's check if there is any missing values in Size column\n",
    "playstore_df.Size.isnull().sum()"
   ]
  },
  {
   "cell_type": "code",
   "execution_count": null,
   "id": "6ed3c438-5d89-4573-9f22-524de8081d6e",
   "metadata": {},
   "outputs": [],
   "source": [
    "def convert_size(Size):\n",
    "    if isinstance(Size, str):\n",
    "        if 'k' in Size:\n",
    "            return float(Size.replace('k', '')) / 1024  # Convert KB to MB\n",
    "        elif 'M' in Size:\n",
    "            return float(Size.replace('M', ''))  # Already in MB\n",
    "        elif 'Varies with device' in Size:\n",
    "            return np.nan  # Assign NaN for 'Varies with device'\n",
    "    return Size\n",
    "playstore_df['Size'] = playstore_df['Size'].apply(convert_size)\n",
    "playstore_df.head()"
   ]
  },
  {
   "cell_type": "code",
   "execution_count": null,
   "id": "aa18d3a8-fd78-4c6b-9f12-0ff1f41c1f9b",
   "metadata": {},
   "outputs": [],
   "source": [
    "playstore_df.Size.value_counts()"
   ]
  },
  {
   "cell_type": "code",
   "execution_count": null,
   "id": "d470d57e-2a77-4d99-9ee0-ca3150108036",
   "metadata": {},
   "outputs": [],
   "source": [
    "playstore_df['Size'] = pd.to_numeric(playstore_df['Size'], errors='coerce')"
   ]
  },
  {
   "cell_type": "markdown",
   "id": "d67abfaa-47bf-48a7-aa15-b7318f9b07d1",
   "metadata": {},
   "source": [
    "## Price Column numeric conversion"
   ]
  },
  {
   "cell_type": "code",
   "execution_count": null,
   "id": "44455aa8-c0c7-4852-b13a-2564ba8bc78d",
   "metadata": {},
   "outputs": [],
   "source": [
    "# first of all, usually we need to check the unique values \n",
    "playstore_df.Price.unique()"
   ]
  },
  {
   "cell_type": "code",
   "execution_count": null,
   "id": "12f39b42-e7b8-44e4-a568-6f1f8a194bd4",
   "metadata": {},
   "outputs": [],
   "source": [
    "playstore_df.Price.value_counts()"
   ]
  },
  {
   "cell_type": "code",
   "execution_count": null,
   "id": "bb0dd9c7-a155-4849-8429-8bc9a4f2a547",
   "metadata": {},
   "outputs": [],
   "source": [
    "# We need to remove only dollar sign."
   ]
  },
  {
   "cell_type": "code",
   "execution_count": null,
   "id": "2b57442f-0335-45be-9dd3-9ab1dfc55952",
   "metadata": {},
   "outputs": [],
   "source": [
    "playstore_df['Price'] = playstore_df['Price'].replace('Everyone', '0')\n",
    "# Now we are going to remove dollar sign from the column \n",
    "playstore_df['Price'] = playstore_df['Price'].apply(lambda x: x.replace('$','') if '$' in str(x) else x)\n",
    "# converting Price column into numeric column\n",
    "playstore_df['Price'] = playstore_df['Price'].apply(lambda x: float(x))"
   ]
  },
  {
   "cell_type": "code",
   "execution_count": null,
   "id": "7fff8500-0852-4f37-b76b-011d45f7c86a",
   "metadata": {},
   "outputs": [],
   "source": [
    "playstore_df.Price.value_counts()"
   ]
  },
  {
   "cell_type": "markdown",
   "id": "22d67928-77aa-4af2-ace6-06c66e49847d",
   "metadata": {},
   "source": [
    "## Reviews Column numeric conversion"
   ]
  },
  {
   "cell_type": "code",
   "execution_count": null,
   "id": "254c08e1-9902-4320-bb22-ff658b3fe914",
   "metadata": {},
   "outputs": [],
   "source": [
    "playstore_df[~playstore_df.Reviews.str.isnumeric()]"
   ]
  },
  {
   "cell_type": "code",
   "execution_count": null,
   "id": "86d7ffa3-b6fe-4533-a048-be3b7ea5f262",
   "metadata": {},
   "outputs": [],
   "source": [
    "playstore_df=playstore_df.drop(playstore_df.index[10472])"
   ]
  },
  {
   "cell_type": "code",
   "execution_count": null,
   "id": "25b55cf0-eed8-4718-a028-549cf8582a6b",
   "metadata": {},
   "outputs": [],
   "source": [
    "playstore_df[\"Reviews\"] = playstore_df[\"Reviews\"].astype(int)\n",
    "playstore_df.info()"
   ]
  },
  {
   "cell_type": "markdown",
   "id": "c59823ad-614e-4a1f-8cb2-b52969d879d9",
   "metadata": {},
   "source": [
    "## Last Updated Column conversion"
   ]
  },
  {
   "cell_type": "code",
   "execution_count": null,
   "id": "464ff424-55b1-40ec-b7a1-3cd003d67e2b",
   "metadata": {},
   "outputs": [],
   "source": [
    "playstore_df['Last Updated'] = pd.to_datetime(playstore_df['Last Updated'])\n",
    "playstore_df['Last Updated']"
   ]
  },
  {
   "cell_type": "code",
   "execution_count": null,
   "id": "59be6ff7-b5d3-42c5-9457-b6939ca4c689",
   "metadata": {},
   "outputs": [],
   "source": [
    "## create 2 different columns for last updated month and year and drop existing last updated column"
   ]
  },
  {
   "cell_type": "code",
   "execution_count": null,
   "id": "42fdd1ea-450c-444a-a14d-737e8158a7fe",
   "metadata": {},
   "outputs": [],
   "source": [
    "playstore_df['Updated_Month']=playstore_df['Last Updated'].dt.month\n",
    "playstore_df['Updated_Year']=playstore_df['Last Updated'].dt.year\n",
    "playstore_df.drop('Last Updated', axis=1, inplace=True)\n",
    "playstore_df.head()"
   ]
  },
  {
   "cell_type": "markdown",
   "id": "b822561b-2359-492f-9650-04df061592cc",
   "metadata": {},
   "source": [
    "## Basic Statistics after conversion"
   ]
  },
  {
   "cell_type": "code",
   "execution_count": null,
   "id": "f1b1cdbb-cd80-414a-b40a-91d16f07979c",
   "metadata": {},
   "outputs": [],
   "source": [
    "playstore_df.info()"
   ]
  },
  {
   "cell_type": "markdown",
   "id": "0e9f478d-b914-468f-a84a-bec66a1105a2",
   "metadata": {},
   "source": [
    "## Check missing values and visualize"
   ]
  },
  {
   "cell_type": "code",
   "execution_count": null,
   "id": "a2326b5a-5a76-4647-a189-f8918a71abe1",
   "metadata": {},
   "outputs": [],
   "source": [
    "print(\"\\nMissing Values:\")\n",
    "missing_values = playstore_df.isnull().sum()\n",
    "print(missing_values)\n",
    "\n",
    "# Visualize missing values\n",
    "plt.figure(figsize=(12, 8))\n",
    "sns.heatmap(playstore_df.isnull(), cbar=False, cmap='viridis')\n",
    "plt.title(\"Missing Data Heatmap\")\n",
    "plt.show()"
   ]
  },
  {
   "cell_type": "markdown",
   "id": "0a8dd490-3341-4bcf-8ab3-e5e54048be5a",
   "metadata": {},
   "source": [
    "## Handle missing values before EDA and data preparation"
   ]
  },
  {
   "cell_type": "markdown",
   "id": "a149f046-6f89-4417-b529-eacfbd7bdd7e",
   "metadata": {},
   "source": [
    "### Fill missing values in Rating with median"
   ]
  },
  {
   "cell_type": "code",
   "execution_count": null,
   "id": "f6ba1c4d-6c60-4875-82ca-96158bea0188",
   "metadata": {},
   "outputs": [],
   "source": [
    "rating_median = playstore_df['Rating'].median()\n",
    "playstore_df['Rating'] = playstore_df['Rating'].fillna(rating_median)"
   ]
  },
  {
   "cell_type": "markdown",
   "id": "e375651d-9a0a-41c3-85cb-4af915e5e9df",
   "metadata": {},
   "source": [
    "### Fill missing values in Type with mode"
   ]
  },
  {
   "cell_type": "code",
   "execution_count": null,
   "id": "079b28db-83fb-4132-9fd8-ea270c626ae1",
   "metadata": {},
   "outputs": [],
   "source": [
    "type_mode = playstore_df['Type'].mode()[0]\n",
    "playstore_df['Type'] = playstore_df['Type'].fillna(type_mode)"
   ]
  },
  {
   "cell_type": "markdown",
   "id": "3efda9b6-eea8-4f4d-b0f6-2af5d5972fa2",
   "metadata": {},
   "source": [
    "### Fill missing values in Content Rating with mode"
   ]
  },
  {
   "cell_type": "code",
   "execution_count": null,
   "id": "876a8035-f0ff-4e74-bd1c-a8855d6c26d2",
   "metadata": {},
   "outputs": [],
   "source": [
    "content_rating_mode = playstore_df['Content Rating'].mode()[0]\n",
    "playstore_df['Content Rating'] = playstore_df['Content Rating'].fillna(content_rating_mode)"
   ]
  },
  {
   "cell_type": "markdown",
   "id": "1a03f2e6-548d-4b52-b3a0-aca1410ee09e",
   "metadata": {},
   "source": [
    "### Replace missing values in 'Current Ver' with a placeholder 'Unknown'"
   ]
  },
  {
   "cell_type": "code",
   "execution_count": null,
   "id": "f411699f-d5ac-4f52-8ec7-c6e495cdfe3b",
   "metadata": {},
   "outputs": [],
   "source": [
    "playstore_df['Current Ver'] = playstore_df['Current Ver'].fillna('Unknown')"
   ]
  },
  {
   "cell_type": "markdown",
   "id": "172c0973-b797-4d12-a040-feb9090d3c32",
   "metadata": {},
   "source": [
    "### Replace missing values in 'Android Ver' with a placeholder 'Varies with device'"
   ]
  },
  {
   "cell_type": "code",
   "execution_count": null,
   "id": "0d4fac5d-7cde-41f8-8e98-aac2e964cb89",
   "metadata": {},
   "outputs": [],
   "source": [
    "playstore_df['Android Ver'] = playstore_df['Android Ver'].fillna('Varies with device')"
   ]
  },
  {
   "cell_type": "markdown",
   "id": "3629d1ab-cc59-4a59-9541-a12a6a5e30a5",
   "metadata": {},
   "source": [
    "### Replace missing values in 'Size' with a placeholder median"
   ]
  },
  {
   "cell_type": "code",
   "execution_count": null,
   "id": "654c458f-1878-428e-9b8c-8393ed3b610c",
   "metadata": {},
   "outputs": [],
   "source": [
    "playstore_df['Size'] = playstore_df['Size'].fillna(playstore_df['Size'].median())"
   ]
  },
  {
   "cell_type": "markdown",
   "id": "5dee2761-8b31-4c34-ac97-9bdab4df2e59",
   "metadata": {},
   "source": [
    "### Check dataset that no missing values left"
   ]
  },
  {
   "cell_type": "code",
   "execution_count": null,
   "id": "5aee245d-0e66-4134-9e49-b4890a8599fa",
   "metadata": {},
   "outputs": [],
   "source": [
    "print(\"\\nMissing Values After Imputation:\")\n",
    "print(playstore_df.isnull().sum())"
   ]
  },
  {
   "cell_type": "markdown",
   "id": "27d344bc-be15-4123-8705-7da4624a7d2b",
   "metadata": {},
   "source": [
    "## check and remove duplicates in dataset"
   ]
  },
  {
   "cell_type": "code",
   "execution_count": null,
   "id": "d1eb641b-4315-41e7-9dac-d729f7a6667e",
   "metadata": {},
   "outputs": [],
   "source": [
    "duplicate = playstore_df.duplicated()\n",
    "print(duplicate.sum())"
   ]
  },
  {
   "cell_type": "code",
   "execution_count": null,
   "id": "2a17f327-5705-47cb-9507-0b891419bef5",
   "metadata": {},
   "outputs": [],
   "source": [
    "playstore_df.drop_duplicates(inplace=True)\n",
    "duplicate = playstore_df.duplicated()\n",
    "print(duplicate.sum())"
   ]
  },
  {
   "cell_type": "code",
   "execution_count": null,
   "id": "8bb2cf4c-4c2e-4ae4-b761-f45d951f2172",
   "metadata": {},
   "outputs": [],
   "source": [
    "## Extract numerical and categorical features before splitting the data"
   ]
  },
  {
   "cell_type": "code",
   "execution_count": null,
   "id": "da0ee407-9b77-4c30-856e-6445b2e87384",
   "metadata": {},
   "outputs": [],
   "source": [
    "num_features=[col for col in playstore_df.columns if playstore_df[col].dtype!='O']\n",
    "num_features"
   ]
  },
  {
   "cell_type": "code",
   "execution_count": null,
   "id": "3547d2c7-d19e-4e14-b75b-2a3233acc612",
   "metadata": {},
   "outputs": [],
   "source": [
    "cat_features=[col for col in playstore_df.columns if playstore_df[col].dtype=='O']\n",
    "cat_features"
   ]
  },
  {
   "cell_type": "markdown",
   "id": "93115cd1-c307-4823-b76d-1d7bec1ab8f4",
   "metadata": {},
   "source": [
    "## Outliers. Detection and Handling"
   ]
  },
  {
   "cell_type": "code",
   "execution_count": null,
   "id": "48b950e9-c662-4ad4-8399-d5613616cef2",
   "metadata": {},
   "outputs": [],
   "source": [
    "# Detecting and Handling Outliers\n",
    "def detect_outliers_iqr(data, column):\n",
    "    Q1 = data[column].quantile(0.25)\n",
    "    Q3 = data[column].quantile(0.75)\n",
    "    IQR = Q3 - Q1\n",
    "    lower_bound = Q1 - 1.5 * IQR\n",
    "    upper_bound = Q3 + 1.5 * IQR\n",
    "    outliers = data[(data[column] < lower_bound) | (data[column] > upper_bound)]\n",
    "    return outliers, lower_bound, upper_bound\n",
    "\n",
    "# Columns to check for outliers\n",
    "numeric_columns = ['Rating', 'Reviews', 'Installs', 'Size']\n",
    "\n",
    "for col in numeric_columns:\n",
    "    print(f\"\\nDetecting outliers in '{col}':\")\n",
    "    outliers, lower_bound, upper_bound = detect_outliers_iqr(playstore_df, col)\n",
    "    print(f\"Lower Bound: {lower_bound}, Upper Bound: {upper_bound}\")\n",
    "    print(f\"Number of Outliers: {len(outliers)}\")\n",
    "\n",
    "    # Visualize outliers using boxplot\n",
    "    plt.figure(figsize=(10, 5))\n",
    "    sns.boxplot(data=playstore_df, x=col, hue=None)  # Removed 'palette' for compatibility\n",
    "    plt.title(f\"Outliers in {col}\")\n",
    "    plt.show()\n",
    "\n",
    "# Handle outliers: Cap values outside the bounds\n",
    "for col in numeric_columns:\n",
    "    _, lower_bound, upper_bound = detect_outliers_iqr(playstore_df, col)\n",
    "    playstore_df[col] = np.clip(playstore_df[col], lower_bound, upper_bound)"
   ]
  },
  {
   "cell_type": "markdown",
   "id": "8f319321-ce54-4ad7-8165-2bae2d97f27a",
   "metadata": {},
   "source": [
    "### Check dataset after handling outliers"
   ]
  },
  {
   "cell_type": "code",
   "execution_count": null,
   "id": "d830ec61-6e2e-44bb-ac5c-eac2b1fa1e7e",
   "metadata": {},
   "outputs": [],
   "source": [
    "# Verify outliers have been handled\n",
    "print(\"\\nAfter handling outliers:\")\n",
    "for col in numeric_columns:\n",
    "    print(f\"{col}: Min = {playstore_df[col].min()}, Max = {playstore_df[col].max()}\")"
   ]
  },
  {
   "cell_type": "markdown",
   "id": "d5846751-e871-4237-9e78-8b39caf49c67",
   "metadata": {},
   "source": [
    "## Feature Engineering"
   ]
  },
  {
   "cell_type": "code",
   "execution_count": null,
   "id": "2a50f850-2d42-4bac-8059-d6a573a2f144",
   "metadata": {},
   "outputs": [],
   "source": [
    "features_removal = ['App', 'Genres', 'Current Ver', 'Android Ver']"
   ]
  },
  {
   "cell_type": "markdown",
   "id": "0b9d3a4c-ae7f-49ab-9c7d-538f11f5a6d2",
   "metadata": {},
   "source": [
    "## Data Splitting"
   ]
  },
  {
   "cell_type": "code",
   "execution_count": null,
   "id": "60b60ab2-1122-48a5-858a-4edea55ba20f",
   "metadata": {},
   "outputs": [],
   "source": [
    "target = 'Rating'\n",
    "X = playstore_df.copy().drop(features_removal+[target], axis=1)\n",
    "y = playstore_df.copy()[target]\n",
    "X_train, X_test, y_train, y_test = train_test_split(X, y, test_size=.2, random_state=42)"
   ]
  },
  {
   "cell_type": "code",
   "execution_count": null,
   "id": "8e4364b4-fa85-4a21-aa64-743569be01e4",
   "metadata": {},
   "outputs": [],
   "source": [
    "# Label encoding"
   ]
  },
  {
   "cell_type": "code",
   "execution_count": null,
   "id": "4b77f33b-e7e7-4a30-877f-8a263a334e10",
   "metadata": {},
   "outputs": [],
   "source": [
    "le_dict = defaultdict()\n",
    "features_to_encode = X_train.select_dtypes(include=['category', 'object']).columns\n",
    "\n",
    "for col in features_to_encode:\n",
    "    le = LabelEncoder()\n",
    "\n",
    "    X_train[col] = le.fit_transform(X_train[col]) # Fitting and tranforming the Train data\n",
    "    X_train[col] = X_train[col].astype('category') # Converting the label encoded features from numerical back to categorical dtype in pandas\n",
    "\n",
    "    X_test[col] = le.transform(X_test[col]) # Only transforming the test data\n",
    "    X_test[col] = X_test[col].astype('category') # Converting the label encoded features from numerical back to categorical dtype in pandas\n",
    "\n",
    "    le_dict[col] = le # Saving the label encoder for individual features"
   ]
  },
  {
   "cell_type": "markdown",
   "id": "7ad8bc8e-373b-4ada-a678-5c91bc2b1c3f",
   "metadata": {},
   "source": [
    "## Normalization and Scaling"
   ]
  },
  {
   "cell_type": "code",
   "execution_count": null,
   "id": "054173af-f458-452d-98ba-2ced88906dd5",
   "metadata": {},
   "outputs": [],
   "source": [
    "# Converting and adding \"Last Updated Month\" to categorical features\n",
    "categorical_features = features_to_encode + ['Updated_Month']\n",
    "X_train['Updated_Month'] = X_train['Updated_Month'].astype('category')\n",
    "X_test['Updated_Month'] = X_test['Updated_Month'].astype('category')\n",
    "\n",
    "# Listing numeric features to scale\n",
    "numeric_features = X_train.select_dtypes(exclude=['category', 'object']).columns"
   ]
  },
  {
   "cell_type": "code",
   "execution_count": null,
   "id": "fcc40499-abfe-43e9-9db3-1f20e83312d2",
   "metadata": {},
   "outputs": [],
   "source": [
    "numeric_features"
   ]
  },
  {
   "cell_type": "code",
   "execution_count": null,
   "id": "4f26f5a6-3c74-486f-ac74-8b5020fc9c21",
   "metadata": {},
   "outputs": [],
   "source": [
    "scaler = StandardScaler()\n",
    "\n",
    "# Fitting and transforming the Training data\n",
    "X_train[numeric_features] = scaler.fit_transform(X_train[numeric_features])\n",
    "# X_train = scaler.fit_transform(X_train)\n",
    "\n",
    "# Only transforming the Test data\n",
    "X_test[numeric_features] = scaler.transform(X_test[numeric_features])\n",
    "# X_test = scaler.transform(X_test)"
   ]
  },
  {
   "cell_type": "markdown",
   "id": "14d57ea2-3721-4420-8a24-9794aba7681b",
   "metadata": {},
   "source": [
    "## Numerical feature analysis for some columns"
   ]
  },
  {
   "cell_type": "code",
   "execution_count": null,
   "id": "a59b54cb-f156-456d-ac68-70ca1ea0ff3e",
   "metadata": {},
   "outputs": [],
   "source": [
    "# Numerical Feature Analysis\n",
    "numerical_features = ['Rating', 'Reviews', 'Size', 'Installs']\n",
    "\n",
    "# Descriptive Statistics\n",
    "print(\"\\nDescriptive Statistics for Numerical Features:\")\n",
    "display(playstore_df[numerical_features].describe())\n",
    "\n",
    "# Visualizations: Histograms and Boxplots\n",
    "for feature in numerical_features:\n",
    "    plt.figure(figsize=(12, 6))\n",
    "    \n",
    "    # Histogram\n",
    "    plt.subplot(1, 2, 1)\n",
    "    plt.hist(playstore_df[feature].dropna(), bins=20, color='skyblue', edgecolor='black')\n",
    "    plt.title(f\"Distribution of {feature}\")\n",
    "    plt.xlabel(feature)\n",
    "    plt.ylabel(\"Frequency\")\n",
    "    \n",
    "    # Boxplot\n",
    "    plt.subplot(1, 2, 2)\n",
    "    sns.boxplot(y=feature, data=playstore_df, color='lightblue')\n",
    "    plt.title(f\"Boxplot of {feature}\")\n",
    "    plt.ylabel(feature)\n",
    "    \n",
    "    plt.tight_layout()\n",
    "    plt.show()"
   ]
  },
  {
   "cell_type": "markdown",
   "id": "5191efdd-1965-4163-b046-666714c221bc",
   "metadata": {},
   "source": [
    "## Categorical Analysis(Type)"
   ]
  },
  {
   "cell_type": "code",
   "execution_count": null,
   "id": "5800285d-dc0e-43dc-8994-a24422078699",
   "metadata": {},
   "outputs": [],
   "source": [
    "# Categorical Analysis: Distribution of App Type\n",
    "playstore_df['Type'].value_counts().plot.pie(\n",
    "    autopct='%1.1f%%', startangle=90, figsize=(8, 8), colors=['skyblue', 'lightcoral']\n",
    ")\n",
    "plt.title('Distribution of App Type (Free vs Paid)')\n",
    "plt.ylabel('')\n",
    "plt.show()\n"
   ]
  },
  {
   "cell_type": "markdown",
   "id": "20577456-177f-413e-a78e-d967ebe427f3",
   "metadata": {},
   "source": [
    "## Correlation Matrix(Relationship between variables)"
   ]
  },
  {
   "cell_type": "code",
   "execution_count": null,
   "id": "e005805f-7f4e-4034-97d6-e6af707bfb06",
   "metadata": {},
   "outputs": [],
   "source": [
    "# Filter numeric columns for correlation\n",
    "numeric_columns = playstore_df.select_dtypes(include=['number']).columns\n",
    "\n",
    "# Correlation Matrix\n",
    "correlation_matrix = playstore_df[numeric_columns].corr()\n",
    "\n",
    "# Heatmap\n",
    "plt.figure(figsize=(12, 8))\n",
    "sns.heatmap(correlation_matrix, annot=True, fmt='.2f', cmap='coolwarm')\n",
    "plt.title('Correlation Matrix')\n",
    "plt.show()"
   ]
  },
  {
   "cell_type": "markdown",
   "id": "c3a63873-3460-4f9e-99db-1473389cb08a",
   "metadata": {},
   "source": [
    "## Pairplot for numerical variables"
   ]
  },
  {
   "cell_type": "code",
   "execution_count": null,
   "id": "3f3859e2-97a1-43e4-b31b-7468d7314212",
   "metadata": {},
   "outputs": [],
   "source": [
    "# Ensure only numeric columns are selected\n",
    "numerical_cols = ['Rating', 'Size', 'Installs', 'Reviews']\n",
    "pairplot_data = playstore_df[numerical_cols].select_dtypes(include=['number'])\n",
    "\n",
    "# Plot pairplot\n",
    "sns.pairplot(pairplot_data, kind='scatter', plot_kws={'alpha': 0.6})\n",
    "plt.suptitle('Pairplot of Numerical Variables', fontsize=16)\n",
    "plt.tight_layout()\n",
    "plt.show()"
   ]
  },
  {
   "cell_type": "markdown",
   "id": "33caab23-031a-4ece-b89f-cd8334b02c9e",
   "metadata": {},
   "source": [
    "## Exploring Relationships(install by category, etc)"
   ]
  },
  {
   "cell_type": "markdown",
   "id": "c95218a5-d0b2-42f0-be97-8d988742fba8",
   "metadata": {},
   "source": [
    "### Rating for App Types"
   ]
  },
  {
   "cell_type": "code",
   "execution_count": null,
   "id": "e9fcb7b8-1ed3-46ef-b8ec-b1ba0377be59",
   "metadata": {},
   "outputs": [],
   "source": [
    "# Boxplot of Ratings for Free vs Paid Apps\n",
    "plt.figure(figsize=(8, 6))\n",
    "sns.boxplot(x='Type', y='Rating', data=playstore_df, color='lightblue')  # Use color for a single color\n",
    "plt.title('Rating Distribution by App Type')\n",
    "plt.xlabel('App Type')\n",
    "plt.ylabel('Rating')\n",
    "plt.show()"
   ]
  },
  {
   "cell_type": "markdown",
   "id": "0a6e8232-a5d9-40bf-8bf0-163b2882bc29",
   "metadata": {},
   "source": [
    "## Average Rating by Genres"
   ]
  },
  {
   "cell_type": "code",
   "execution_count": null,
   "id": "75ae95bc-c452-4420-a331-20dc9758ae10",
   "metadata": {},
   "outputs": [],
   "source": [
    "# Average Rating by Genres\n",
    "rating_by_genres = playstore_df.groupby('Genres')['Rating'].mean().sort_values(ascending=False).head(10)\n",
    "rating_by_genres.plot(kind='barh', color='mediumaquamarine', figsize=(10, 6), edgecolor='black')\n",
    "plt.title('Top 10 Genres by Average Rating')\n",
    "plt.xlabel('Average Rating')\n",
    "plt.ylabel('Genre')\n",
    "plt.gca().invert_yaxis()\n",
    "plt.show()"
   ]
  },
  {
   "cell_type": "markdown",
   "id": "ee58c013-5497-4874-8100-946ee9b3362a",
   "metadata": {},
   "source": [
    "## Splitting the data for training and testing"
   ]
  },
  {
   "cell_type": "code",
   "execution_count": null,
   "id": "816a38c1-5fd9-4fef-9801-716d2433a0c1",
   "metadata": {},
   "outputs": [],
   "source": [
    "print(f\"Training Set: {X_train.shape}, Testing Set: {X_test.shape}\")"
   ]
  },
  {
   "cell_type": "markdown",
   "id": "a74b6801-1091-4c16-94f7-f3ecdb3af8ae",
   "metadata": {},
   "source": [
    "# Model Training"
   ]
  },
  {
   "cell_type": "code",
   "execution_count": null,
   "id": "c6ed1b00-74a5-4d21-9f48-93f9c9edce66",
   "metadata": {},
   "outputs": [],
   "source": [
    "import matplotlib.pyplot as plt\n",
    "\n",
    "# Function to plot actual vs predicted values\n",
    "def plot_real_pred(y_real, y_pred, title=\"Actual vs Predicted Values\"):\n",
    "    plt.figure(figsize=(10, 6))\n",
    "    plt.scatter(y_real, y_pred, alpha=0.7, color='blue')\n",
    "    plt.plot([y_real.min(), y_real.max()], [y_real.min(), y_real.max()], 'r--', lw=2)  # Add a diagonal line for perfect predictions\n",
    "    plt.title(title)\n",
    "    plt.xlabel(\"Actual\")\n",
    "    plt.ylabel(\"Predicted\")\n",
    "    plt.show()"
   ]
  },
  {
   "cell_type": "code",
   "execution_count": null,
   "id": "a7978d0f-b2b5-44b6-ba5f-8b0a824c18fe",
   "metadata": {},
   "outputs": [],
   "source": [
    "# Initialize a DataFrame to store metrics\n",
    "models = ['Linear', 'Tuned SGD', 'SGD with Feature Selection']\n",
    "metrics = ['train_R2', 'test_R2', 'train_MAE', 'test_MAE', 'train_RMSE', 'test_RMSE']\n",
    "df_metrics_reg = pd.DataFrame(index=models, columns=metrics)"
   ]
  },
  {
   "cell_type": "markdown",
   "id": "f3ab0787-5043-466a-b45c-2782bc311a67",
   "metadata": {},
   "source": [
    "## Model 1 - Linear Regression"
   ]
  },
  {
   "cell_type": "code",
   "execution_count": null,
   "id": "104e3b99-1d29-457e-9ee4-f42b358c4357",
   "metadata": {},
   "outputs": [],
   "source": [
    "# Scenario 1: Linear Regression\n",
    "lr = LinearRegression()\n",
    "lr.fit(X_train, y_train)"
   ]
  },
  {
   "cell_type": "markdown",
   "id": "3653c99c-103e-4c4c-882f-94bfa08d0728",
   "metadata": {},
   "source": [
    "### Prediction"
   ]
  },
  {
   "cell_type": "code",
   "execution_count": null,
   "id": "5f2a2bdf-6e66-48ba-a766-d6f1d3977663",
   "metadata": {},
   "outputs": [],
   "source": [
    "y_train_pred_lr = lr.predict(X_train)\n",
    "y_test_pred_lr = lr.predict(X_test)"
   ]
  },
  {
   "cell_type": "markdown",
   "id": "8917380b-07b7-459a-8119-aaed2e0c0f82",
   "metadata": {},
   "source": [
    "### Metrics for Linear regression"
   ]
  },
  {
   "cell_type": "code",
   "execution_count": null,
   "id": "5a4390c8-61d4-456f-9fb8-21681a0467fa",
   "metadata": {},
   "outputs": [],
   "source": [
    "# Store metrics for Linear Regression\n",
    "df_metrics_reg.loc['Linear', 'train_R2'] = r2_score(y_train, y_train_pred_lr)\n",
    "df_metrics_reg.loc['Linear', 'test_R2'] = r2_score(y_test, y_test_pred_lr)\n",
    "\n",
    "df_metrics_reg.loc['Linear', 'train_MAE'] = mean_absolute_error(y_train, y_train_pred_lr)\n",
    "df_metrics_reg.loc['Linear', 'test_MAE'] = mean_absolute_error(y_test, y_test_pred_lr)\n",
    "\n",
    "# Calculate RMSE manually using np.sqrt\n",
    "df_metrics_reg.loc['Linear', 'train_RMSE'] = np.sqrt(mean_squared_error(y_train, y_train_pred_lr))\n",
    "df_metrics_reg.loc['Linear', 'test_RMSE'] = np.sqrt(mean_squared_error(y_test, y_test_pred_lr))"
   ]
  },
  {
   "cell_type": "markdown",
   "id": "aeb25034-17b3-495f-91ac-2244a4efaaf2",
   "metadata": {},
   "source": [
    "### Scenario 2 - Hyperparameter tuning"
   ]
  },
  {
   "cell_type": "code",
   "execution_count": null,
   "id": "f1943b9d-4063-4cea-9322-130ad8ea1d12",
   "metadata": {},
   "outputs": [],
   "source": [
    "param_grid = {\n",
    "    'penalty': ['l2', 'elasticnet'],  # Regularization techniques\n",
    "    'alpha': [0.0001, 0.001],  # Regularization strength\n",
    "    'max_iter': [1000, 5000]  # Iterations for convergence\n",
    "}\n",
    "\n",
    "# Use K-Fold Cross-Validation\n",
    "cv = KFold(n_splits=5, shuffle=True, random_state=1)\n",
    "grid_search = GridSearchCV(estimator=SGDRegressor(random_state=1), param_grid=param_grid, cv=cv, scoring=\"neg_mean_squared_error\")\n",
    "\n",
    "grid_search.fit(X_train, y_train)"
   ]
  },
  {
   "cell_type": "code",
   "execution_count": null,
   "id": "d6b02d2c-9ea1-490e-84ca-10c1fc7f8b8c",
   "metadata": {},
   "outputs": [],
   "source": [
    "# Get the best tuned model\n",
    "best_sgd_model = deepcopy(grid_search.best_estimator_)\n",
    "y_train_pred_sgd = best_sgd_model.predict(X_train)\n",
    "y_test_pred_sgd = best_sgd_model.predict(X_test)\n",
    "\n",
    "# Store metrics for Tuned SGD Regressor\n",
    "df_metrics_reg.loc['Tuned SGD', 'train_R2'] = r2_score(y_train, y_train_pred_sgd)\n",
    "df_metrics_reg.loc['Tuned SGD', 'test_R2'] = r2_score(y_test, y_test_pred_sgd)\n",
    "\n",
    "df_metrics_reg.loc['Tuned SGD', 'train_MAE'] = mean_absolute_error(y_train, y_train_pred_sgd)\n",
    "df_metrics_reg.loc['Tuned SGD', 'test_MAE'] = mean_absolute_error(y_test, y_test_pred_sgd)\n",
    "\n",
    "# Calculate RMSE using np.sqrt\n",
    "df_metrics_reg.loc['Tuned SGD', 'train_RMSE'] = np.sqrt(mean_squared_error(y_train, y_train_pred_sgd))\n",
    "df_metrics_reg.loc['Tuned SGD', 'test_RMSE'] = np.sqrt(mean_squared_error(y_test, y_test_pred_sgd))"
   ]
  },
  {
   "cell_type": "markdown",
   "id": "65c661fd-1921-47dd-8edc-e4e77ba1378f",
   "metadata": {},
   "source": [
    "### Scenario 3 -  Feature Selection(SGD Regressor)"
   ]
  },
  {
   "cell_type": "code",
   "execution_count": null,
   "id": "34e2ec22-3c62-45b7-82f3-8b7806eba29e",
   "metadata": {},
   "outputs": [],
   "source": [
    "# Adjust k to be <= number of features in the dataset (here, 9 features)\n",
    "feature_selector = SelectKBest(r_regression, k=9)  # Select top 9 features\n",
    "feature_selector.fit(X_train, y_train)\n",
    "\n",
    "X_train_selected = feature_selector.transform(X_train)\n",
    "X_test_selected = feature_selector.transform(X_test)\n",
    "\n",
    "# Perform grid search on the selected features\n",
    "grid_search_selected = GridSearchCV(estimator=SGDRegressor(random_state=1), param_grid=param_grid, cv=cv, scoring=\"neg_mean_squared_error\")\n",
    "grid_search_selected.fit(X_train_selected, y_train)\n",
    "\n",
    "# Get the best SGD model from grid search with feature selection\n",
    "selected_sgd_model = deepcopy(grid_search_selected.best_estimator_)\n",
    "\n",
    "# Predict on selected features\n",
    "y_train_pred_fs = selected_sgd_model.predict(X_train_selected)\n",
    "y_test_pred_fs = selected_sgd_model.predict(X_test_selected)"
   ]
  },
  {
   "cell_type": "markdown",
   "id": "71b81af6-7f40-4391-a623-9daba12477e3",
   "metadata": {},
   "source": [
    "### Metrics for SGD"
   ]
  },
  {
   "cell_type": "code",
   "execution_count": null,
   "id": "bbff27c6-6d9f-43c3-a882-6ffab1363681",
   "metadata": {},
   "outputs": [],
   "source": [
    "# Store metrics for SGD with Feature Selection\n",
    "df_metrics_reg.loc['SGD with Feature Selection', 'train_R2'] = r2_score(y_train, y_train_pred_fs)\n",
    "df_metrics_reg.loc['SGD with Feature Selection', 'test_R2'] = r2_score(y_test, y_test_pred_fs)\n",
    "\n",
    "df_metrics_reg.loc['SGD with Feature Selection', 'train_MAE'] = mean_absolute_error(y_train, y_train_pred_fs)\n",
    "df_metrics_reg.loc['SGD with Feature Selection', 'test_MAE'] = mean_absolute_error(y_test, y_test_pred_fs)\n",
    "\n",
    "# Calculate RMSE using np.sqrt\n",
    "df_metrics_reg.loc['SGD with Feature Selection', 'train_RMSE'] = np.sqrt(mean_squared_error(y_train, y_train_pred_fs))\n",
    "df_metrics_reg.loc['SGD with Feature Selection', 'test_RMSE'] = np.sqrt(mean_squared_error(y_test, y_test_pred_fs))"
   ]
  },
  {
   "cell_type": "markdown",
   "id": "978a3e34-f772-45d5-bfbf-4caea6739953",
   "metadata": {},
   "source": [
    "### Visualize model evaluation metrics"
   ]
  },
  {
   "cell_type": "code",
   "execution_count": null,
   "id": "9c4417c6-9007-49c4-bb5a-78f4d93a9ae2",
   "metadata": {},
   "outputs": [],
   "source": [
    "# Display Model Performance Metrics\n",
    "print(\"\\nModel Performance Metrics:\")\n",
    "display(df_metrics_reg)\n",
    "\n",
    "# Visualization for the final model (SGD with Feature Selection)\n",
    "plot_real_pred(y_test, y_test_pred_fs, title=\"SGD with Feature Selection: Actual vs Predicted\")"
   ]
  },
  {
   "cell_type": "markdown",
   "id": "75cf4705-5cf0-42c5-9d2c-89ed974e8f03",
   "metadata": {},
   "source": [
    "## Model 2 - Random Forest Regression"
   ]
  },
  {
   "cell_type": "markdown",
   "id": "e6db8927-14bd-49b6-8f30-0508ff980bbf",
   "metadata": {},
   "source": [
    "### Train the model"
   ]
  },
  {
   "cell_type": "code",
   "execution_count": null,
   "id": "6d17d0d4-2354-406b-9daa-54480edcff76",
   "metadata": {},
   "outputs": [],
   "source": [
    "# Initialize the Random Forest Regressor with default parameters\n",
    "rf_model = RandomForestRegressor(n_estimators=100, random_state=42)\n",
    "\n",
    "# Train the model\n",
    "rf_model.fit(X_train, y_train)"
   ]
  },
  {
   "cell_type": "markdown",
   "id": "bf219149-ef67-4c0f-9422-aeec7596ce72",
   "metadata": {},
   "source": [
    "### Prediction"
   ]
  },
  {
   "cell_type": "code",
   "execution_count": null,
   "id": "3faed907-c30a-48a6-899c-0ade16e94100",
   "metadata": {},
   "outputs": [],
   "source": [
    "# Make predictions on the test set\n",
    "y_train_pred_rf = rf_model.predict(X_train)\n",
    "y_test_pred_rf = rf_model.predict(X_test)"
   ]
  },
  {
   "cell_type": "markdown",
   "id": "ca4531e9-09a7-420c-aab2-cbc46f5e140d",
   "metadata": {},
   "source": [
    "### Evaluate the model"
   ]
  },
  {
   "cell_type": "code",
   "execution_count": null,
   "id": "48509e96-5c0f-4896-a6d6-d7da830adc3e",
   "metadata": {},
   "outputs": [],
   "source": [
    "train_r2_rf = r2_score(y_train, y_train_pred_rf)\n",
    "test_r2_rf = r2_score(y_test, y_test_pred_rf)\n",
    "\n",
    "train_mae_rf = mean_absolute_error(y_train, y_train_pred_rf)\n",
    "test_mae_rf = mean_absolute_error(y_test, y_test_pred_rf)\n",
    "\n",
    "train_rmse_rf = np.sqrt(mean_squared_error(y_train, y_train_pred_rf))\n",
    "test_rmse_rf = np.sqrt(mean_squared_error(y_test, y_test_pred_rf))"
   ]
  },
  {
   "cell_type": "markdown",
   "id": "2ff277a3-7600-4ce4-90b5-7a385cf90dc2",
   "metadata": {},
   "source": [
    "### Display evaluation metrics"
   ]
  },
  {
   "cell_type": "code",
   "execution_count": null,
   "id": "4b092c73-5d8d-43e2-b44c-dac877f75b4a",
   "metadata": {},
   "outputs": [],
   "source": [
    "# Display evaluation metrics\n",
    "print(f\"Random Forest Regressor - Training Metrics:\")\n",
    "print(f\"Train R2: {train_r2_rf:.4f}\")\n",
    "print(f\"Test R2: {test_r2_rf:.4f}\")\n",
    "print(f\"Train MAE: {train_mae_rf:.4f}\")\n",
    "print(f\"Test MAE: {test_mae_rf:.4f}\")\n",
    "print(f\"Train RMSE: {train_rmse_rf:.4f}\")\n",
    "print(f\"Test RMSE: {test_rmse_rf:.4f}\")"
   ]
  },
  {
   "cell_type": "markdown",
   "id": "18c8692d-7373-433f-a127-d12ddbdfbca5",
   "metadata": {},
   "source": [
    "### Define important features for further analysis"
   ]
  },
  {
   "cell_type": "code",
   "execution_count": null,
   "id": "b71e7304-1490-4e05-85d6-12eed808c1c2",
   "metadata": {},
   "outputs": [],
   "source": [
    "# Get feature importance from the trained model\n",
    "importances = rf_model.feature_importances_\n",
    "\n",
    "# Create a DataFrame with feature names and their importance values\n",
    "feature_importance_df = pd.DataFrame({\n",
    "    'Feature': X_train.columns,\n",
    "    'Importance': importances\n",
    "}).sort_values(by='Importance', ascending=False)\n",
    "\n",
    "# Display the most important features\n",
    "print(\"Feature Importance:\")\n",
    "display(feature_importance_df)\n",
    "\n",
    "# Plot feature importances\n",
    "plt.figure(figsize=(12, 8))\n",
    "sns.barplot(x='Importance', y='Feature', data=feature_importance_df)\n",
    "plt.title('Feature Importance - Random Forest')\n",
    "plt.show()"
   ]
  },
  {
   "cell_type": "markdown",
   "id": "d72831b9-c445-47af-ae6f-4c2a4c4d4080",
   "metadata": {},
   "source": [
    "### Hyperparameter tuning"
   ]
  },
  {
   "cell_type": "code",
   "execution_count": null,
   "id": "4c2d019e-e606-44c9-a304-61030c7443fa",
   "metadata": {},
   "outputs": [],
   "source": [
    "# Hyperparameter tuning using RandomizedSearchCV\n",
    "param_dist = {\n",
    "    \"criterion\": [\"squared_error\", \"absolute_error\", \"friedman_mse\"],\n",
    "    \"n_estimators\": randint(100, 200),  # Range of number of trees\n",
    "    \"max_depth\": [None, 10, 20],  # Range of tree depth\n",
    "    \"min_samples_split\": randint(2, 6),  # Minimum number of samples to split node\n",
    "    \"min_samples_leaf\": randint(1, 5),  # Minimum number of samples per leaf\n",
    "    \"max_features\": ['sqrt', 'log2', None]  # Max features per split\n",
    "}\n",
    "\n",
    "# Initialize RandomizedSearchCV\n",
    "grid_search = RandomizedSearchCV(\n",
    "    RandomForestRegressor(random_state=42),\n",
    "    param_distributions=param_dist,\n",
    "    cv=3,  # Cross-validation folds\n",
    "    n_iter=20,  # Number of iterations\n",
    "    n_jobs=-1,  # Use all available cores\n",
    "    verbose=1  # Show progress\n",
    ")\n",
    "\n",
    "# Fit the RandomizedSearchCV\n",
    "grid_search.fit(X_train, y_train)\n",
    "\n",
    "# Best parameters from RandomizedSearchCV\n",
    "print(f\"Best Parameters from RandomizedSearchCV: {grid_search.best_params_}\")\n"
   ]
  },
  {
   "cell_type": "code",
   "execution_count": null,
   "id": "d60d0172-8efc-41fc-bf11-9e264b3fa9b3",
   "metadata": {},
   "outputs": [],
   "source": [
    "# After tuning, I decided to train the best model found by grid search - AI usage"
   ]
  },
  {
   "cell_type": "code",
   "execution_count": null,
   "id": "5016cdaf-0b60-4b2e-90d3-3f7d6dec3b4a",
   "metadata": {},
   "outputs": [],
   "source": [
    "# Train the best model found by the grid search\n",
    "best_rf_model = grid_search.best_estimator_\n",
    "\n",
    "# Make predictions with the tuned model\n",
    "y_train_pred_rf_tuned = best_rf_model.predict(X_train)\n",
    "y_test_pred_rf_tuned = best_rf_model.predict(X_test)"
   ]
  },
  {
   "cell_type": "markdown",
   "id": "b0835c87-8edb-43ba-964e-a2a919886dc3",
   "metadata": {},
   "source": [
    "### Evaluate tuned model"
   ]
  },
  {
   "cell_type": "code",
   "execution_count": null,
   "id": "7aafe5e4-d999-440b-81b3-5a3af1119390",
   "metadata": {},
   "outputs": [],
   "source": [
    "train_r2_rf_tuned = r2_score(y_train, y_train_pred_rf_tuned)\n",
    "test_r2_rf_tuned = r2_score(y_test, y_test_pred_rf_tuned)\n",
    "\n",
    "train_mae_rf_tuned = mean_absolute_error(y_train, y_train_pred_rf_tuned)\n",
    "test_mae_rf_tuned = mean_absolute_error(y_test, y_test_pred_rf_tuned)\n",
    "\n",
    "train_rmse_rf_tuned = np.sqrt(mean_squared_error(y_train, y_train_pred_rf_tuned))\n",
    "test_rmse_rf_tuned = np.sqrt(mean_squared_error(y_test, y_test_pred_rf_tuned))"
   ]
  },
  {
   "cell_type": "markdown",
   "id": "8afb6538-55e5-4785-8c50-4ffd67c10510",
   "metadata": {},
   "source": [
    "### Display evaluation metrics"
   ]
  },
  {
   "cell_type": "code",
   "execution_count": null,
   "id": "32cc642b-4cb1-41a0-ab78-a103f4c0c5f6",
   "metadata": {},
   "outputs": [],
   "source": [
    "# Display evaluation metrics for the tuned model\n",
    "print(f\"\\nRandom Forest Regressor (Tuned) - Training Metrics:\")\n",
    "print(f\"Train R2: {train_r2_rf_tuned:.4f}\")\n",
    "print(f\"Test R2: {test_r2_rf_tuned:.4f}\")\n",
    "print(f\"Train MAE: {train_mae_rf_tuned:.4f}\")\n",
    "print(f\"Test MAE: {test_mae_rf_tuned:.4f}\")\n",
    "print(f\"Train RMSE: {train_rmse_rf_tuned:.4f}\")\n",
    "print(f\"Test RMSE: {test_rmse_rf_tuned:.4f}\")"
   ]
  },
  {
   "cell_type": "code",
   "execution_count": null,
   "id": "cbcf0fd9-ba3f-4f0a-93ad-d2e7eac9cecc",
   "metadata": {},
   "outputs": [],
   "source": [
    "# Feature importance for the tuned model\n",
    "importances_tuned = best_rf_model.feature_importances_\n",
    "\n",
    "# Create a DataFrame for feature importance\n",
    "feature_importance_df_tuned = pd.DataFrame({\n",
    "    'Feature': X_train.columns,\n",
    "    'Importance': importances_tuned\n",
    "}).sort_values(by='Importance', ascending=False)\n",
    "\n",
    "# Display the most important features\n",
    "print(\"Feature Importance (Tuned):\")\n",
    "display(feature_importance_df_tuned)\n",
    "\n",
    "# Plot feature importances for the tuned model\n",
    "plt.figure(figsize=(12, 8))\n",
    "sns.barplot(x='Importance', y='Feature', data=feature_importance_df_tuned)\n",
    "plt.title('Feature Importance - Tuned Random Forest')\n",
    "plt.show()"
   ]
  },
  {
   "cell_type": "markdown",
   "id": "fa459f90-250c-4990-87ba-23bed260d9de",
   "metadata": {},
   "source": [
    "## Model 3 - XGBoost regressor"
   ]
  },
  {
   "cell_type": "markdown",
   "id": "313f5ed8-42e3-4da4-a41a-a4b58d4d2794",
   "metadata": {},
   "source": [
    "### Label encoding"
   ]
  },
  {
   "cell_type": "code",
   "execution_count": null,
   "id": "45b72b08-b0e3-458c-a6df-1c9c0866eff4",
   "metadata": {},
   "outputs": [],
   "source": [
    "# Apply Label Encoding for categorical features\n",
    "categorical_features = ['Category', 'Type', 'Content Rating', 'Updated_Month']\n",
    "\n",
    "# Initialize LabelEncoder\n",
    "le = LabelEncoder()\n",
    "\n",
    "# Apply label encoding to each categorical feature\n",
    "for col in categorical_features:\n",
    "    X_train[col] = le.fit_transform(X_train[col])\n",
    "    X_test[col] = le.transform(X_test[col])"
   ]
  },
  {
   "cell_type": "code",
   "execution_count": null,
   "id": "14cf42f9-5343-430f-b8ac-0a28aaa693ce",
   "metadata": {},
   "outputs": [],
   "source": [
    "# Define the parameter grid for RandomizedSearchCV\n",
    "param_dist = {\n",
    "    \"n_estimators\": randint(100, 500),  # Number of boosting rounds (trees)\n",
    "    \"learning_rate\": [0.01, 0.05, 0.1, 0.2, 0.3],  # Step size\n",
    "    \"max_depth\": randint(3, 15),  # Depth of each tree\n",
    "    \"min_child_weight\": randint(1, 10),  # Minimum sum of instance weight in a child\n",
    "    \"subsample\": [0.6, 0.7, 0.8, 0.9, 1.0],  # Fraction of samples\n",
    "    \"colsample_bytree\": [0.6, 0.7, 0.8, 0.9, 1.0],  # Fraction of features per tree\n",
    "    \"gamma\": [0, 0.1, 0.2, 0.3, 0.4],  # Minimum loss reduction\n",
    "    \"scale_pos_weight\": [1, 2, 3],  # For imbalanced data\n",
    "}"
   ]
  },
  {
   "cell_type": "markdown",
   "id": "049b1bde-d1c3-45d6-9321-1936d88ddc9e",
   "metadata": {},
   "source": [
    "### Model training"
   ]
  },
  {
   "cell_type": "code",
   "execution_count": null,
   "id": "4ffe72db-46aa-4282-b3b1-18663b452d8e",
   "metadata": {},
   "outputs": [],
   "source": [
    "# Initialize the XGBoost Regressor\n",
    "xgb_model = XGBRegressor(random_state=42)\n",
    "\n",
    "# Initialize RandomizedSearchCV\n",
    "random_search = RandomizedSearchCV(\n",
    "    xgb_model,\n",
    "    param_distributions=param_dist,\n",
    "    n_iter=50,  # Number of iterations\n",
    "    cv=5,  # Cross-validation folds\n",
    "    scoring='neg_mean_squared_error',  # Use MSE for evaluation\n",
    "    n_jobs=-1,  # Use all processors\n",
    "    verbose=1,  # Show search progress\n",
    "    random_state=42\n",
    ")\n",
    "\n",
    "# Fit the RandomizedSearchCV\n",
    "random_search.fit(X_train, y_train)"
   ]
  },
  {
   "cell_type": "code",
   "execution_count": null,
   "id": "58e51fbf-265c-4a72-93b3-8445ef45fb3c",
   "metadata": {},
   "outputs": [],
   "source": [
    "# Get best parameter from random search "
   ]
  },
  {
   "cell_type": "code",
   "execution_count": null,
   "id": "1746d4e0-bf34-49fe-8f40-cc02fe5cabf3",
   "metadata": {},
   "outputs": [],
   "source": [
    "# Get the best parameters from the random search\n",
    "best_params = random_search.best_params_\n",
    "print(\"Best Parameters:\", best_params)\n"
   ]
  },
  {
   "cell_type": "markdown",
   "id": "6cf1af14-cfde-4442-8211-43a10a8755d1",
   "metadata": {},
   "source": [
    "### Prediction"
   ]
  },
  {
   "cell_type": "code",
   "execution_count": null,
   "id": "7d1ad24c-44ef-4f3d-a2bd-199c6434de79",
   "metadata": {},
   "outputs": [],
   "source": [
    "y_train_pred_xgb = random_search.best_estimator_.predict(X_train)\n",
    "y_test_pred_xgb = random_search.best_estimator_.predict(X_test)"
   ]
  },
  {
   "cell_type": "markdown",
   "id": "794f35a5-90d2-4f2a-a895-c2b14e61ed61",
   "metadata": {},
   "source": [
    "### Evaluate the model"
   ]
  },
  {
   "cell_type": "code",
   "execution_count": null,
   "id": "3f929b2c-70de-4918-9d0f-ff0529f99808",
   "metadata": {},
   "outputs": [],
   "source": [
    "train_r2_xgb = r2_score(y_train, y_train_pred_xgb)\n",
    "test_r2_xgb = r2_score(y_test, y_test_pred_xgb)\n",
    "\n",
    "train_mae_xgb = mean_absolute_error(y_train, y_train_pred_xgb)\n",
    "test_mae_xgb = mean_absolute_error(y_test, y_test_pred_xgb)\n",
    "\n",
    "train_rmse_xgb = np.sqrt(mean_squared_error(y_train, y_train_pred_xgb))\n",
    "test_rmse_xgb = np.sqrt(mean_squared_error(y_test, y_test_pred_xgb))"
   ]
  },
  {
   "cell_type": "code",
   "execution_count": null,
   "id": "ba500def-d650-421c-8760-fba5af4d38e2",
   "metadata": {},
   "outputs": [],
   "source": [
    "# Evaluation metrics"
   ]
  },
  {
   "cell_type": "code",
   "execution_count": null,
   "id": "692605c2-3e21-4674-829c-a2df93dd0c68",
   "metadata": {},
   "outputs": [],
   "source": [
    "# Print evaluation metrics\n",
    "print(f\"XGBoost Regressor - Training Metrics (after tuning):\")\n",
    "print(f\"Train R2: {train_r2_xgb:.4f}\")\n",
    "print(f\"Test R2: {test_r2_xgb:.4f}\")\n",
    "print(f\"Train MAE: {train_mae_xgb:.4f}\")\n",
    "print(f\"Test MAE: {test_mae_xgb:.4f}\")\n",
    "print(f\"Train RMSE: {train_rmse_xgb:.4f}\")\n",
    "print(f\"Test RMSE: {test_rmse_xgb:.4f}\")"
   ]
  },
  {
   "cell_type": "markdown",
   "id": "b79e9079-fc4a-4ada-90c4-5861c8af372b",
   "metadata": {},
   "source": [
    "### Important features"
   ]
  },
  {
   "cell_type": "code",
   "execution_count": null,
   "id": "59d196cf-bbc4-4153-a1ab-e2ca047023f9",
   "metadata": {},
   "outputs": [],
   "source": [
    "# Feature importance visualization\n",
    "importances = random_search.best_estimator_.feature_importances_\n",
    "\n",
    "# Create a DataFrame for feature importances\n",
    "feature_importance_df = pd.DataFrame({\n",
    "    'Feature': X_train.columns,\n",
    "    'Importance': importances\n",
    "}).sort_values(by='Importance', ascending=False)\n",
    "\n",
    "# Display the most important features\n",
    "print(\"Feature Importance:\")\n",
    "display(feature_importance_df)\n",
    "\n",
    "# Plot feature importances\n",
    "plt.figure(figsize=(12, 8))\n",
    "sns.barplot(x='Importance', y='Feature', data=feature_importance_df)\n",
    "plt.title('Feature Importance - XGBoost (after tuning)')\n",
    "plt.show()"
   ]
  },
  {
   "cell_type": "markdown",
   "id": "f85da7a1-3919-4ec3-a551-6091f50ebb2f",
   "metadata": {},
   "source": [
    "## Compare models"
   ]
  },
  {
   "cell_type": "code",
   "execution_count": null,
   "id": "e517ec70-139f-467b-bfbe-52c97b09ce46",
   "metadata": {},
   "outputs": [],
   "source": [
    "# Apply Label Encoding for categorical features\n",
    "categorical_features = ['Category', 'Type', 'Content Rating', 'Updated_Month']\n",
    "\n",
    "# Initialize LabelEncoder\n",
    "le = LabelEncoder()\n",
    "\n",
    "# Apply label encoding to each categorical feature in both train and test sets\n",
    "for col in categorical_features:\n",
    "    X_train[col] = le.fit_transform(X_train[col])\n",
    "    X_test[col] = le.transform(X_test[col])\n",
    "\n",
    "# Convert data to numeric (in case there are any non-numeric columns after encoding)\n",
    "X_train = X_train.apply(pd.to_numeric, errors='coerce')\n",
    "X_test = X_test.apply(pd.to_numeric, errors='coerce')\n",
    "\n",
    "# Initialize models\n",
    "lr = LinearRegression()\n",
    "rf = RandomForestRegressor(random_state=42)\n",
    "xgb = XGBRegressor(random_state=42)\n",
    "\n",
    "# Define a function to calculate metrics with cross-validation\n",
    "def evaluate_model_with_cv(model, X, y, cv_folds=5):\n",
    "    # Cross-validation for R2, MAE, RMSE\n",
    "    cv = KFold(n_splits=cv_folds, shuffle=True, random_state=42)\n",
    "\n",
    "    # Compute cross-validation scores for R2\n",
    "    r2_scores = cross_val_score(model, X, y, cv=cv, scoring='r2')\n",
    "    \n",
    "    # Compute cross-validation scores for MAE\n",
    "    mae_scores = cross_val_score(model, X, y, cv=cv, scoring='neg_mean_absolute_error')\n",
    "    \n",
    "    # Compute cross-validation scores for RMSE\n",
    "    rmse_scores = cross_val_score(model, X, y, cv=cv, scoring='neg_root_mean_squared_error')\n",
    "\n",
    "    # Average scores\n",
    "    avg_r2 = np.mean(r2_scores)\n",
    "    avg_mae = -np.mean(mae_scores)  # Negative because neg_mean_absolute_error is used\n",
    "    avg_rmse = -np.mean(rmse_scores)  # Negative because neg_root_mean_squared_error is used\n",
    "\n",
    "    return avg_r2, avg_mae, avg_rmse\n",
    "\n",
    "# Store results in a DataFrame\n",
    "models = ['Linear Regression', 'Random Forest', 'XGBoost']\n",
    "results = []\n",
    "\n",
    "# Run cross-validation for each model\n",
    "for model in [lr, rf, xgb]:\n",
    "    avg_r2, avg_mae, avg_rmse = evaluate_model_with_cv(model, X_train, y_train, cv_folds=5)\n",
    "    results.append([model.__class__.__name__, avg_r2, avg_mae, avg_rmse])\n",
    "\n",
    "# Convert to DataFrame for better readability\n",
    "comparison_df = pd.DataFrame(results, columns=['Model', 'Avg Train R2', 'Avg Train MAE', 'Avg Train RMSE'])\n",
    "\n",
    "# Display results\n",
    "print(\"Model Comparison with Cross-Validation:\")\n",
    "display(comparison_df)\n"
   ]
  }
 ],
 "metadata": {
  "kernelspec": {
   "display_name": "Python 3 (ipykernel)",
   "language": "python",
   "name": "python3"
  },
  "language_info": {
   "codemirror_mode": {
    "name": "ipython",
    "version": 3
   },
   "file_extension": ".py",
   "mimetype": "text/x-python",
   "name": "python",
   "nbconvert_exporter": "python",
   "pygments_lexer": "ipython3",
   "version": "3.12.7"
  },
  "panel-cell-order": [
   "3d5b1a6d-cb8f-49f9-9f9b-36d72b015bc3",
   "598efb0e-6b3b-46b0-8ad1-0f367caf1de5"
  ]
 },
 "nbformat": 4,
 "nbformat_minor": 5
}
